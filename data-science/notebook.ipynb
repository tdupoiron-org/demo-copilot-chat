{
 "cells": [
  {
   "cell_type": "markdown",
   "metadata": {},
   "source": [
    "# Import Required Libraries\n",
    "Import the necessary libraries, including pandas, matplotlib, and TextBlob."
   ]
  },
  {
   "cell_type": "code",
   "execution_count": 1,
   "metadata": {},
   "outputs": [
    {
     "ename": "ModuleNotFoundError",
     "evalue": "No module named 'textblob'",
     "output_type": "error",
     "traceback": [
      "\u001b[0;31m---------------------------------------------------------------------------\u001b[0m",
      "\u001b[0;31mModuleNotFoundError\u001b[0m                       Traceback (most recent call last)",
      "\u001b[1;32mUntitled-1.ipynb Cell 2\u001b[0m line \u001b[0;36m4\n\u001b[1;32m      <a href='vscode-notebook-cell:Untitled-1.ipynb?jupyter-notebook#W2sdW50aXRsZWQ%3D?line=1'>2</a>\u001b[0m \u001b[39mimport\u001b[39;00m \u001b[39mpandas\u001b[39;00m \u001b[39mas\u001b[39;00m \u001b[39mpd\u001b[39;00m \u001b[39m# For data manipulation and analysis\u001b[39;00m\n\u001b[1;32m      <a href='vscode-notebook-cell:Untitled-1.ipynb?jupyter-notebook#W2sdW50aXRsZWQ%3D?line=2'>3</a>\u001b[0m \u001b[39mimport\u001b[39;00m \u001b[39mmatplotlib\u001b[39;00m\u001b[39m.\u001b[39;00m\u001b[39mpyplot\u001b[39;00m \u001b[39mas\u001b[39;00m \u001b[39mplt\u001b[39;00m \u001b[39m# For data visualization\u001b[39;00m\n\u001b[0;32m----> <a href='vscode-notebook-cell:Untitled-1.ipynb?jupyter-notebook#W2sdW50aXRsZWQ%3D?line=3'>4</a>\u001b[0m \u001b[39mfrom\u001b[39;00m \u001b[39mtextblob\u001b[39;00m \u001b[39mimport\u001b[39;00m TextBlob \u001b[39m# For sentiment analysis\u001b[39;00m\n",
      "\u001b[0;31mModuleNotFoundError\u001b[0m: No module named 'textblob'"
     ]
    }
   ],
   "source": [
    "# Import necessary libraries\n",
    "import pandas as pd # For data manipulation and analysis\n",
    "import matplotlib.pyplot as plt # For data visualization\n",
    "from textblob import TextBlob # For sentiment analysis"
   ]
  },
  {
   "cell_type": "markdown",
   "metadata": {},
   "source": [
    "# Create List of Statements\n",
    "Create a list of 10 statements from rugby fans, such as 'I love watching rugby on the weekends' or 'I can't stand when my team loses.'"
   ]
  },
  {
   "cell_type": "code",
   "execution_count": null,
   "metadata": {},
   "outputs": [],
   "source": [
    "# Create a list of 10 statements from rugby fans\n",
    "statements = ['I love watching rugby on the weekends', \n",
    "              'My favorite rugby team always wins', \n",
    "              'I can\\'t stand when my team loses', \n",
    "              'Rugby is the best sport in the world', \n",
    "              'I wish I could play rugby professionally', \n",
    "              'Watching rugby with friends is the best', \n",
    "              'I get so excited for rugby season', \n",
    "              'Rugby players are some of the toughest athletes', \n",
    "              'I always root for the underdog in rugby matches', \n",
    "              'Rugby brings people together']\n",
    "\n",
    "# Print the list of statements\n",
    "print(statements)"
   ]
  },
  {
   "cell_type": "markdown",
   "metadata": {},
   "source": [
    "# Perform Sentiment Analysis\n",
    "Use TextBlob to perform sentiment analysis on each statement in the list, assigning a polarity score between -1 (negative) and 1 (positive)."
   ]
  },
  {
   "cell_type": "code",
   "execution_count": null,
   "metadata": {},
   "outputs": [],
   "source": [
    "# Use TextBlob to perform sentiment analysis on each statement in the list, assigning a polarity score between -1 (negative) and 1 (positive)\n",
    "sentiment_scores = []\n",
    "for statement in statements:\n",
    "    blob = TextBlob(statement)\n",
    "    sentiment_scores.append(blob.sentiment.polarity)\n",
    "\n",
    "# Print the sentiment scores\n",
    "print(sentiment_scores)"
   ]
  },
  {
   "cell_type": "markdown",
   "metadata": {},
   "source": [
    "# Plot Results\n",
    "Create a bar chart showing the number of positive, negative, and neutral statements, based on the polarity scores."
   ]
  },
  {
   "cell_type": "code",
   "execution_count": null,
   "metadata": {},
   "outputs": [],
   "source": [
    "# Create a dictionary to store the count of positive, negative, and neutral statements\n",
    "sentiment_counts = {'Positive': 0, 'Negative': 0, 'Neutral': 0}\n",
    "\n",
    "# Loop through the sentiment scores and increment the count for each sentiment category\n",
    "for score in sentiment_scores:\n",
    "    if score > 0:\n",
    "        sentiment_counts['Positive'] += 1\n",
    "    elif score < 0:\n",
    "        sentiment_counts['Negative'] += 1\n",
    "    else:\n",
    "        sentiment_counts['Neutral'] += 1\n",
    "\n",
    "# Create a bar chart showing the sentiment counts\n",
    "plt.bar(sentiment_counts.keys(), sentiment_counts.values())\n",
    "plt.title('Sentiment Analysis of Rugby Fans')\n",
    "plt.xlabel('Sentiment')\n",
    "plt.ylabel('Count')\n",
    "plt.show()"
   ]
  }
 ],
 "metadata": {
  "kernelspec": {
   "display_name": "Python 3 (ipykernel)",
   "language": "python",
   "name": "python3"
  },
  "language_info": {
   "codemirror_mode": {
    "name": "ipython",
    "version": 3
   },
   "file_extension": ".py",
   "mimetype": "text/x-python",
   "name": "python",
   "nbconvert_exporter": "python",
   "pygments_lexer": "ipython3",
   "version": "3.10.8"
  },
  "orig_nbformat": 4
 },
 "nbformat": 4,
 "nbformat_minor": 2
}
